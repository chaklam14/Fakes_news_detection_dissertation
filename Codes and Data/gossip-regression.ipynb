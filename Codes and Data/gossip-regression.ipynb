{
 "cells": [
  {
   "cell_type": "code",
   "execution_count": 1,
   "metadata": {},
   "outputs": [],
   "source": [
    "import pandas as pd\n",
    "df = pd.read_csv(\"gossip_combine.csv\")\n",
    "subdf = df[['title','class','sp_count','up_count','title_cha','title_word','cha_word','up_cha','up_word','bad_word']]\n",
    "\n",
    "# real news\n",
    "df0 = subdf['class']==0\n",
    "df0 = subdf[df0]\n",
    "# fake news\n",
    "df1 = subdf['class']==1\n",
    "df1 = subdf[df1]"
   ]
  },
  {
   "cell_type": "code",
   "execution_count": 2,
   "metadata": {},
   "outputs": [
    {
     "name": "stdout",
     "output_type": "stream",
     "text": [
      "Number of titles without bad words in real news: 16647\n",
      "Number of titles with bad words in real news: 170\n",
      "Percentage of titles without bad words in real news: 98.99\n",
      "Percentage of titles with bad words in real news: 1.01\n"
     ]
    }
   ],
   "source": [
    "# no. of title with bad words in REAL news\n",
    "bad0 = df0['bad_word']==0\n",
    "bad0 = df0[bad0]\n",
    "bad1 = df0['bad_word']==1\n",
    "bad1 = df0[bad1]\n",
    "\n",
    "print('Number of titles without bad words in real news:', len(bad0.index))\n",
    "print('Number of titles with bad words in real news:', len(bad1.index))\n",
    "print('Percentage of titles without bad words in real news: {:.2f}'.format((len(bad0.index)/len(df0.index))*100))\n",
    "print('Percentage of titles with bad words in real news: {:.2f}'.format((len(bad1.index)/len(df0.index))*100))\n"
   ]
  },
  {
   "cell_type": "code",
   "execution_count": 3,
   "metadata": {},
   "outputs": [
    {
     "name": "stdout",
     "output_type": "stream",
     "text": [
      "Number of titles without bad words in real news: 5279\n",
      "Number of titles with bad words in real news: 44\n",
      "Percentage of titles without bad words: 99.17\n",
      "Percentage of titles with bad words: 0.83\n"
     ]
    }
   ],
   "source": [
    "# no. of title with bad words in FAKE news\n",
    "bad0 = df1['bad_word']==0\n",
    "bad0 = df1[bad0]\n",
    "bad1 = df1['bad_word']==1\n",
    "bad1 = df1[bad1]\n",
    "\n",
    "print('Number of titles without bad words in real news:', len(bad0.index))\n",
    "print('Number of titles with bad words in real news:', len(bad1.index))\n",
    "print('Percentage of titles without bad words: {:.2f}'.format((len(bad0.index)/len(df1.index))*100))\n",
    "print('Percentage of titles with bad words: {:.2f}'.format((len(bad1.index)/len(df1.index))*100))"
   ]
  },
  {
   "cell_type": "code",
   "execution_count": 4,
   "metadata": {},
   "outputs": [
    {
     "name": "stdout",
     "output_type": "stream",
     "text": [
      "percentage of real news is 75.95754290876242\n",
      "percentage of fake news is 24.04245709123758\n"
     ]
    }
   ],
   "source": [
    "count_real = len(df0.index)\n",
    "count_fake = len(df1.index)\n",
    "total = len(df.index)\n",
    "print(\"percentage of real news is\", (count_real/total)*100)\n",
    "print(\"percentage of fake news is\", (count_fake/total)*100)"
   ]
  },
  {
   "cell_type": "code",
   "execution_count": 5,
   "metadata": {},
   "outputs": [],
   "source": [
    "# logistic regression\n",
    "\n",
    "import pandas as pd\n",
    "import numpy as np\n",
    "from sklearn import preprocessing\n",
    "import matplotlib.pyplot as plt \n",
    "from sklearn.linear_model import LogisticRegression\n",
    "from sklearn.model_selection import train_test_split\n",
    "import seaborn as sns"
   ]
  },
  {
   "cell_type": "code",
   "execution_count": 6,
   "metadata": {},
   "outputs": [],
   "source": [
    "x= subdf[['sp_count','up_count','title_cha','title_word','cha_word','up_cha','up_word','bad_word']]\n",
    "y= subdf[['class']]"
   ]
  },
  {
   "cell_type": "code",
   "execution_count": 7,
   "metadata": {},
   "outputs": [
    {
     "name": "stderr",
     "output_type": "stream",
     "text": [
      "/anaconda3/lib/python3.7/site-packages/sklearn/linear_model/logistic.py:432: FutureWarning: Default solver will be changed to 'lbfgs' in 0.22. Specify a solver to silence this warning.\n",
      "  FutureWarning)\n",
      "/anaconda3/lib/python3.7/site-packages/sklearn/utils/validation.py:724: DataConversionWarning: A column-vector y was passed when a 1d array was expected. Please change the shape of y to (n_samples, ), for example using ravel().\n",
      "  y = column_or_1d(y, warn=True)\n"
     ]
    },
    {
     "name": "stdout",
     "output_type": "stream",
     "text": [
      "Accuracy of logistic regression classifier on test set: 0.76\n"
     ]
    }
   ],
   "source": [
    "######################## regression with ALL features #################################\n",
    "from sklearn.linear_model import LogisticRegression\n",
    "from sklearn import metrics\n",
    "\n",
    "# 70% of data = training, 30% = test, with random shuffling\n",
    "x_train, x_test, y_train, y_test = train_test_split(x, y, test_size=0.3, random_state=10)\n",
    "columns = x_train.columns\n",
    "\n",
    "# logistic regression\n",
    "logreg = LogisticRegression()\n",
    "logreg.fit(x_train, y_train)\n",
    "\n",
    "y_pred = logreg.predict(x_test)\n",
    "print('Accuracy of logistic regression classifier on test set: {:.2f}'.format(logreg.score(x_test, y_test)))"
   ]
  },
  {
   "cell_type": "code",
   "execution_count": 8,
   "metadata": {},
   "outputs": [
    {
     "name": "stdout",
     "output_type": "stream",
     "text": [
      "[[5025    4]\n",
      " [1613    0]]\n"
     ]
    }
   ],
   "source": [
    "# confusion matrix\n",
    "from sklearn.metrics import confusion_matrix\n",
    "confusion_matrix = confusion_matrix(y_test, y_pred)\n",
    "print(confusion_matrix)"
   ]
  },
  {
   "cell_type": "code",
   "execution_count": 9,
   "metadata": {},
   "outputs": [
    {
     "name": "stdout",
     "output_type": "stream",
     "text": [
      "MCC = -0.013902334621002757\n"
     ]
    }
   ],
   "source": [
    "# MCC\n",
    "m = confusion_matrix\n",
    "TP = m[1][1];\n",
    "TN = m[0][0];\n",
    "FN = m[1][0];\n",
    "FP = m[0][1];\n",
    "MCC = (TP*TN-FP*FN)/(np.sqrt((TP+FP)*(TP+FN)*(TN+FP)*(TN+FN)));\n",
    "print('MCC =', MCC)"
   ]
  },
  {
   "cell_type": "code",
   "execution_count": 10,
   "metadata": {},
   "outputs": [
    {
     "name": "stdout",
     "output_type": "stream",
     "text": [
      "Optimization terminated successfully.\n",
      "         Current function value: 0.548726\n",
      "         Iterations 5\n",
      "                         Results: Logit\n",
      "=================================================================\n",
      "Model:              Logit            Pseudo R-squared: 0.005     \n",
      "Dependent Variable: class            AIC:              24313.5877\n",
      "Date:               2019-08-28 19:56 BIC:              24377.6288\n",
      "No. Observations:   22140            Log-Likelihood:   -12149.   \n",
      "Df Model:           7                LL-Null:          -12212.   \n",
      "Df Residuals:       22132            LLR p-value:      4.5557e-24\n",
      "Converged:          1.0000           Scale:            1.0000    \n",
      "No. Iterations:     5.0000                                       \n",
      "------------------------------------------------------------------\n",
      "               Coef.   Std.Err.     z     P>|z|    [0.025   0.975]\n",
      "------------------------------------------------------------------\n",
      "sp_count      -0.0040    0.0109  -0.3657  0.7146  -0.0253   0.0173\n",
      "up_count       0.0286    0.0101   2.8322  0.0046   0.0088   0.0484\n",
      "title_cha      0.0150    0.0041   3.6718  0.0002   0.0070   0.0230\n",
      "title_word    -0.1079    0.0186  -5.7993  0.0000  -0.1444  -0.0714\n",
      "cha_word      -0.1992    0.0202  -9.8482  0.0000  -0.2389  -0.1596\n",
      "up_cha        -0.0666    0.0120  -5.5681  0.0000  -0.0901  -0.0432\n",
      "up_word        0.0123    0.0025   4.8811  0.0000   0.0074   0.0173\n",
      "bad_word      -0.1339    0.1706  -0.7846  0.4327  -0.4683   0.2005\n",
      "=================================================================\n",
      "\n"
     ]
    }
   ],
   "source": [
    "import statsmodels.api as sm\n",
    "logit_model=sm.Logit(y,x)\n",
    "result = logit_model.fit()\n",
    "print(result.summary2())"
   ]
  },
  {
   "cell_type": "code",
   "execution_count": 11,
   "metadata": {},
   "outputs": [
    {
     "data": {
      "image/png": "[encoded data removed]",
      "text/plain": [
       "<Figure size 432x288 with 1 Axes>"
      ]
     },
     "metadata": {
      "needs_background": "light"
     },
     "output_type": "display_data"
    }
   ],
   "source": [
    "# ROC curve\n",
    "from sklearn.metrics import roc_auc_score\n",
    "from sklearn.metrics import roc_curve\n",
    "logit_roc_auc = roc_auc_score(y_test, logreg.predict(x_test))\n",
    "fpr, tpr, thresholds = roc_curve(y_test, logreg.predict_proba(x_test)[:,1])\n",
    "plt.figure()\n",
    "plt.plot(fpr, tpr, label='Logistic Regression (area = %0.2f)' % logit_roc_auc)\n",
    "plt.plot([0, 1], [0, 1],'r--')\n",
    "plt.xlim([0.0, 1.0])\n",
    "plt.ylim([0.0, 1.05])\n",
    "plt.xlabel('False Positive Rate')\n",
    "plt.ylabel('True Positive Rate')\n",
    "plt.title('Receiver operating characteristic (ROC)')\n",
    "plt.legend(loc=\"lower right\")\n",
    "plt.savefig('Log_ROC')\n",
    "plt.show()"
   ]
  },
  {
   "cell_type": "code",
   "execution_count": null,
   "metadata": {},
   "outputs": [],
   "source": []
  },
  {
   "cell_type": "code",
   "execution_count": 12,
   "metadata": {
    "scrolled": true
   },
   "outputs": [
    {
     "name": "stderr",
     "output_type": "stream",
     "text": [
      "/anaconda3/lib/python3.7/site-packages/sklearn/linear_model/logistic.py:432: FutureWarning: Default solver will be changed to 'lbfgs' in 0.22. Specify a solver to silence this warning.\n",
      "  FutureWarning)\n",
      "/anaconda3/lib/python3.7/site-packages/sklearn/linear_model/logistic.py:432: FutureWarning: Default solver will be changed to 'lbfgs' in 0.22. Specify a solver to silence this warning.\n",
      "  FutureWarning)\n",
      "/anaconda3/lib/python3.7/site-packages/sklearn/linear_model/logistic.py:432: FutureWarning: Default solver will be changed to 'lbfgs' in 0.22. Specify a solver to silence this warning.\n",
      "  FutureWarning)\n",
      "/anaconda3/lib/python3.7/site-packages/sklearn/linear_model/logistic.py:432: FutureWarning: Default solver will be changed to 'lbfgs' in 0.22. Specify a solver to silence this warning.\n",
      "  FutureWarning)\n"
     ]
    },
    {
     "name": "stdout",
     "output_type": "stream",
     "text": [
      "[False  True False  True  True False False  True]\n",
      "[5 1 2 1 1 3 4 1]\n"
     ]
    },
    {
     "name": "stderr",
     "output_type": "stream",
     "text": [
      "/anaconda3/lib/python3.7/site-packages/sklearn/linear_model/logistic.py:432: FutureWarning: Default solver will be changed to 'lbfgs' in 0.22. Specify a solver to silence this warning.\n",
      "  FutureWarning)\n"
     ]
    }
   ],
   "source": [
    "############### recursive features elimination with 4 features ###############\n",
    "from sklearn.feature_selection import RFE\n",
    "from sklearn.linear_model import LogisticRegression\n",
    "\n",
    "x= subdf[['sp_count','up_count','title_cha','title_word','cha_word','up_cha','up_word','bad_word']]\n",
    "y= subdf[['class']]\n",
    "\n",
    "x_train, x_test, y_train, y_test = train_test_split(x, y, test_size=0.3, random_state=10)\n",
    "\n",
    "logreg = LogisticRegression()\n",
    "rfe = RFE(logreg,n_features_to_select=4,step=1)\n",
    "rfe = rfe.fit(x_train, y_train.values.ravel())\n",
    "print(rfe.support_)\n",
    "print(rfe.ranking_)"
   ]
  },
  {
   "cell_type": "code",
   "execution_count": 13,
   "metadata": {},
   "outputs": [
    {
     "name": "stdout",
     "output_type": "stream",
     "text": [
      "Index(['sp_count', 'up_count', 'title_cha', 'title_word', 'cha_word', 'up_cha',\n",
      "       'up_word', 'bad_word'],\n",
      "      dtype='object')\n"
     ]
    }
   ],
   "source": [
    "print(columns)"
   ]
  },
  {
   "cell_type": "code",
   "execution_count": 14,
   "metadata": {},
   "outputs": [
    {
     "name": "stderr",
     "output_type": "stream",
     "text": [
      "/anaconda3/lib/python3.7/site-packages/sklearn/linear_model/logistic.py:432: FutureWarning: Default solver will be changed to 'lbfgs' in 0.22. Specify a solver to silence this warning.\n",
      "  FutureWarning)\n"
     ]
    },
    {
     "name": "stdout",
     "output_type": "stream",
     "text": [
      "Accuracy of logistic regression classifier on test set: 0.76\n"
     ]
    }
   ],
   "source": [
    "## regression with top 4 \"best\" features ##\n",
    "x= subdf[['up_count','title_word','cha_word','bad_word']]\n",
    "y = subdf['class']\n",
    "\n",
    "x_train, x_test, y_train, y_test = train_test_split(x, y, test_size=0.3, random_state=10)\n",
    "logreg = LogisticRegression()\n",
    "logreg.fit(x_train, y_train)\n",
    "\n",
    "y_pred = logreg.predict(x_test)\n",
    "print('Accuracy of logistic regression classifier on test set: {:.2f}'.format(logreg.score(x_test, y_test)))"
   ]
  },
  {
   "cell_type": "code",
   "execution_count": 15,
   "metadata": {},
   "outputs": [
    {
     "name": "stdout",
     "output_type": "stream",
     "text": [
      "[[5026    3]\n",
      " [1613    0]]\n",
      "MCC = -0.012038868173435125\n"
     ]
    }
   ],
   "source": [
    "# confusion matrix\n",
    "from sklearn.metrics import confusion_matrix\n",
    "confusion_matrix = confusion_matrix(y_test, y_pred)\n",
    "print(confusion_matrix)\n",
    "\n",
    "m = confusion_matrix\n",
    "TP = m[1][1];\n",
    "TN = m[0][0];\n",
    "FN = m[1][0];\n",
    "FP = m[0][1];\n",
    "MCC = (TP*TN-FP*FN)/(np.sqrt((TP+FP)*(TP+FN)*(TN+FP)*(TN+FN)));\n",
    "print('MCC =', MCC)"
   ]
  },
  {
   "cell_type": "code",
   "execution_count": 16,
   "metadata": {},
   "outputs": [
    {
     "data": {
      "image/png": "[encoded data removed]",
      "text/plain": [
       "<Figure size 432x288 with 1 Axes>"
      ]
     },
     "metadata": {
      "needs_background": "light"
     },
     "output_type": "display_data"
    }
   ],
   "source": [
    "# ROC curve\n",
    "from sklearn.metrics import roc_auc_score\n",
    "from sklearn.metrics import roc_curve\n",
    "logit_roc_auc = roc_auc_score(y_test, logreg.predict(x_test))\n",
    "fpr, tpr, thresholds = roc_curve(y_test, logreg.predict_proba(x_test)[:,1])\n",
    "plt.figure()\n",
    "plt.plot(fpr, tpr, label='Logistic Regression (area = %0.2f)' % logit_roc_auc)\n",
    "plt.plot([0, 1], [0, 1],'r--')\n",
    "plt.xlim([0.0, 1.0])\n",
    "plt.ylim([0.0, 1.05])\n",
    "plt.xlabel('False Positive Rate')\n",
    "plt.ylabel('True Positive Rate')\n",
    "plt.title('Receiver operating characteristic (ROC)')\n",
    "plt.legend(loc=\"lower right\")\n",
    "plt.savefig('Log_ROC')\n",
    "plt.show()"
   ]
  },
  {
   "cell_type": "code",
   "execution_count": 17,
   "metadata": {},
   "outputs": [],
   "source": [
    "#######\n",
    "# very bad results, even with recursive feature reduction, MCC is negative \n",
    "# so need to use SMOTE (resampling) to increase the portion of fake news\n"
   ]
  }
 ],
 "metadata": {
  "kernelspec": {
   "display_name": "Python 3",
   "language": "python",
   "name": "python3"
  },
  "language_info": {
   "codemirror_mode": {
    "name": "ipython",
    "version": 3
   },
   "file_extension": ".py",
   "mimetype": "text/x-python",
   "name": "python",
   "nbconvert_exporter": "python",
   "pygments_lexer": "ipython3",
   "version": "3.7.3"
  }
 },
 "nbformat": 4,
 "nbformat_minor": 2
}
