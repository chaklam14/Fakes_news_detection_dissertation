{
 "cells": [
  {
   "cell_type": "code",
   "execution_count": 1,
   "metadata": {},
   "outputs": [],
   "source": [
    "import pandas as pd\n",
    "df = pd.read_csv(\"gossip_combine.csv\")\n",
    "df = df.reset_index(drop=True)\n"
   ]
  },
  {
   "cell_type": "code",
   "execution_count": 2,
   "metadata": {},
   "outputs": [],
   "source": [
    "from imblearn.over_sampling import SMOTE\n",
    "import numpy as np\n",
    "from sklearn import preprocessing\n",
    "import matplotlib.pyplot as plt \n",
    "from sklearn.linear_model import LogisticRegression\n",
    "from sklearn.model_selection import train_test_split"
   ]
  },
  {
   "cell_type": "code",
   "execution_count": 3,
   "metadata": {},
   "outputs": [],
   "source": [
    "df = df.sample(frac=1, random_state=1)\n",
    "X= df[['sp_count','up_count','title_cha','title_word','cha_word','up_cha','up_word','bad_word']]\n",
    "y= df[['class']]\n",
    "X_train, X_test, y_train, y_test = train_test_split(X, y, test_size=0.3, random_state=10)\n",
    "columns = X_train.columns"
   ]
  },
  {
   "cell_type": "code",
   "execution_count": 4,
   "metadata": {},
   "outputs": [
    {
     "name": "stderr",
     "output_type": "stream",
     "text": [
      "/anaconda3/lib/python3.7/site-packages/sklearn/utils/validation.py:724: DataConversionWarning: A column-vector y was passed when a 1d array was expected. Please change the shape of y to (n_samples, ), for example using ravel().\n",
      "  y = column_or_1d(y, warn=True)\n"
     ]
    }
   ],
   "source": [
    "#### SMOTE on the training data\n",
    "\n",
    "os = SMOTE(random_state=0)\n",
    "os_data_X,os_data_y=os.fit_sample(X_train,y_train)\n",
    "os_data_X = pd.DataFrame(data=os_data_X,columns=columns )\n",
    "os_data_y= pd.DataFrame(data=os_data_y,columns=['y'])\n"
   ]
  },
  {
   "cell_type": "markdown",
   "metadata": {},
   "source": [
    "os_data_X,os_data_y=os.fit_sample(X_train, y_train)\n",
    "os_data_X = pd.DataFrame(data=os_data_X,columns=columns )\n",
    "os_data_y= pd.DataFrame(data=os_data_y,columns=['y'])\n"
   ]
  },
  {
   "cell_type": "code",
   "execution_count": 5,
   "metadata": {},
   "outputs": [
    {
     "name": "stdout",
     "output_type": "stream",
     "text": [
      "length of oversampled data is  23558\n",
      "Number of real news in oversampled data 11779\n",
      "Number of fake news 11779\n",
      "Proportion of real news in oversampled data is  0.5\n",
      "Proportion of fake news in oversampled data is  0.5\n"
     ]
    }
   ],
   "source": [
    "# we can Check the numbers of our data\n",
    "print(\"length of oversampled data is \",len(os_data_X))\n",
    "print(\"Number of real news in oversampled data\",len(os_data_y[os_data_y['y']==0]))\n",
    "print(\"Number of fake news\",len(os_data_y[os_data_y['y']==1]))\n",
    "print(\"Proportion of real news in oversampled data is \",len(os_data_y[os_data_y['y']==0])/len(os_data_X))\n",
    "print(\"Proportion of fake news in oversampled data is \",len(os_data_y[os_data_y['y']==1])/len(os_data_X))"
   ]
  },
  {
   "cell_type": "code",
   "execution_count": 6,
   "metadata": {},
   "outputs": [
    {
     "name": "stdout",
     "output_type": "stream",
     "text": [
      "length of original data is  15498\n",
      "length of original data is  15498\n",
      "Number of real news in original data 11779\n",
      "Number of fake news 3719\n",
      "Proportion of real news in oversampled data is  0.7600335527164795\n",
      "Proportion of fake news in oversampled data is  0.23996644728352046\n"
     ]
    }
   ],
   "source": [
    "print(\"length of original data is \",len(X_train))\n",
    "print(\"length of original data is \",len(y_train))\n",
    "print(\"Number of real news in original data\",len(y_train[y_train['class']==0]))\n",
    "print(\"Number of fake news\",len(y_train[y_train['class']==1]))\n",
    "print(\"Proportion of real news in oversampled data is \",len(y_train[y_train['class']==0])/len(X_train))\n",
    "print(\"Proportion of fake news in oversampled data is \",len(y_train[y_train['class']==1])/len(X_train))"
   ]
  },
  {
   "cell_type": "code",
   "execution_count": 7,
   "metadata": {},
   "outputs": [],
   "source": [
    "new_df = os_data_X\n",
    "new_df['class'] = os_data_y\n"
   ]
  },
  {
   "cell_type": "code",
   "execution_count": 8,
   "metadata": {},
   "outputs": [
    {
     "data": {
      "text/html": [
       "<div>\n",
       "<style scoped>\n",
       "    .dataframe tbody tr th:only-of-type {\n",
       "        vertical-align: middle;\n",
       "    }\n",
       "\n",
       "    .dataframe tbody tr th {\n",
       "        vertical-align: top;\n",
       "    }\n",
       "\n",
       "    .dataframe thead th {\n",
       "        text-align: right;\n",
       "    }\n",
       "</style>\n",
       "<table border=\"1\" class=\"dataframe\">\n",
       "  <thead>\n",
       "    <tr style=\"text-align: right;\">\n",
       "      <th></th>\n",
       "      <th>sp_count</th>\n",
       "      <th>up_count</th>\n",
       "      <th>title_cha</th>\n",
       "      <th>title_word</th>\n",
       "      <th>cha_word</th>\n",
       "      <th>up_cha</th>\n",
       "      <th>up_word</th>\n",
       "      <th>bad_word</th>\n",
       "      <th>class</th>\n",
       "    </tr>\n",
       "  </thead>\n",
       "  <tbody>\n",
       "    <tr>\n",
       "      <th>23553</th>\n",
       "      <td>0.000000</td>\n",
       "      <td>12.000000</td>\n",
       "      <td>67.000000</td>\n",
       "      <td>11.000000</td>\n",
       "      <td>6.100000</td>\n",
       "      <td>17.000000</td>\n",
       "      <td>109.0</td>\n",
       "      <td>0.0</td>\n",
       "      <td>1</td>\n",
       "    </tr>\n",
       "    <tr>\n",
       "      <th>23554</th>\n",
       "      <td>2.948988</td>\n",
       "      <td>9.051012</td>\n",
       "      <td>62.000000</td>\n",
       "      <td>10.051012</td>\n",
       "      <td>6.169393</td>\n",
       "      <td>14.102024</td>\n",
       "      <td>90.0</td>\n",
       "      <td>0.0</td>\n",
       "      <td>1</td>\n",
       "    </tr>\n",
       "    <tr>\n",
       "      <th>23555</th>\n",
       "      <td>4.875074</td>\n",
       "      <td>16.000000</td>\n",
       "      <td>91.124926</td>\n",
       "      <td>18.000000</td>\n",
       "      <td>5.106246</td>\n",
       "      <td>17.000000</td>\n",
       "      <td>88.0</td>\n",
       "      <td>0.0</td>\n",
       "      <td>1</td>\n",
       "    </tr>\n",
       "    <tr>\n",
       "      <th>23556</th>\n",
       "      <td>3.000000</td>\n",
       "      <td>4.000000</td>\n",
       "      <td>49.611748</td>\n",
       "      <td>8.000000</td>\n",
       "      <td>6.161175</td>\n",
       "      <td>8.000000</td>\n",
       "      <td>50.0</td>\n",
       "      <td>0.0</td>\n",
       "      <td>1</td>\n",
       "    </tr>\n",
       "    <tr>\n",
       "      <th>23557</th>\n",
       "      <td>0.000000</td>\n",
       "      <td>6.000000</td>\n",
       "      <td>32.587406</td>\n",
       "      <td>6.000000</td>\n",
       "      <td>5.417481</td>\n",
       "      <td>18.000000</td>\n",
       "      <td>100.0</td>\n",
       "      <td>0.0</td>\n",
       "      <td>1</td>\n",
       "    </tr>\n",
       "  </tbody>\n",
       "</table>\n",
       "</div>"
      ],
      "text/plain": [
       "       sp_count   up_count  title_cha  title_word  cha_word     up_cha  \\\n",
       "23553  0.000000  12.000000  67.000000   11.000000  6.100000  17.000000   \n",
       "23554  2.948988   9.051012  62.000000   10.051012  6.169393  14.102024   \n",
       "23555  4.875074  16.000000  91.124926   18.000000  5.106246  17.000000   \n",
       "23556  3.000000   4.000000  49.611748    8.000000  6.161175   8.000000   \n",
       "23557  0.000000   6.000000  32.587406    6.000000  5.417481  18.000000   \n",
       "\n",
       "       up_word  bad_word  class  \n",
       "23553    109.0       0.0      1  \n",
       "23554     90.0       0.0      1  \n",
       "23555     88.0       0.0      1  \n",
       "23556     50.0       0.0      1  \n",
       "23557    100.0       0.0      1  "
      ]
     },
     "execution_count": 8,
     "metadata": {},
     "output_type": "execute_result"
    }
   ],
   "source": [
    "new_df.tail()"
   ]
  },
  {
   "cell_type": "code",
   "execution_count": 9,
   "metadata": {},
   "outputs": [],
   "source": [
    "## export the data\n",
    "new_df.to_csv(r'gossip_SMOTE.csv')"
   ]
  },
  {
   "cell_type": "code",
   "execution_count": 10,
   "metadata": {},
   "outputs": [
    {
     "name": "stdout",
     "output_type": "stream",
     "text": [
      "length of oversampled data is  23558\n",
      "Number of real news in oversampled data 11779\n",
      "Number of fake news 11779\n"
     ]
    }
   ],
   "source": [
    "print(\"length of oversampled data is \",len(new_df))\n",
    "print(\"Number of real news in oversampled data\",len(new_df[new_df['class']==0]))\n",
    "print(\"Number of fake news\",len(new_df[new_df['class']==1]))\n"
   ]
  },
  {
   "cell_type": "code",
   "execution_count": 11,
   "metadata": {},
   "outputs": [],
   "source": [
    "# test data\n",
    "test_df = pd.DataFrame(data=X_test,columns=columns )\n",
    "test_df['class']=y_test"
   ]
  },
  {
   "cell_type": "code",
   "execution_count": 13,
   "metadata": {},
   "outputs": [
    {
     "data": {
      "text/html": [
       "<div>\n",
       "<style scoped>\n",
       "    .dataframe tbody tr th:only-of-type {\n",
       "        vertical-align: middle;\n",
       "    }\n",
       "\n",
       "    .dataframe tbody tr th {\n",
       "        vertical-align: top;\n",
       "    }\n",
       "\n",
       "    .dataframe thead th {\n",
       "        text-align: right;\n",
       "    }\n",
       "</style>\n",
       "<table border=\"1\" class=\"dataframe\">\n",
       "  <thead>\n",
       "    <tr style=\"text-align: right;\">\n",
       "      <th></th>\n",
       "      <th>sp_count</th>\n",
       "      <th>up_count</th>\n",
       "      <th>title_cha</th>\n",
       "      <th>title_word</th>\n",
       "      <th>cha_word</th>\n",
       "      <th>up_cha</th>\n",
       "      <th>up_word</th>\n",
       "      <th>bad_word</th>\n",
       "      <th>class</th>\n",
       "    </tr>\n",
       "  </thead>\n",
       "  <tbody>\n",
       "    <tr>\n",
       "      <th>12582</th>\n",
       "      <td>0</td>\n",
       "      <td>5</td>\n",
       "      <td>36</td>\n",
       "      <td>8</td>\n",
       "      <td>4.5</td>\n",
       "      <td>13</td>\n",
       "      <td>62</td>\n",
       "      <td>0</td>\n",
       "      <td>0</td>\n",
       "    </tr>\n",
       "    <tr>\n",
       "      <th>14639</th>\n",
       "      <td>2</td>\n",
       "      <td>4</td>\n",
       "      <td>50</td>\n",
       "      <td>8</td>\n",
       "      <td>6.2</td>\n",
       "      <td>8</td>\n",
       "      <td>50</td>\n",
       "      <td>0</td>\n",
       "      <td>0</td>\n",
       "    </tr>\n",
       "    <tr>\n",
       "      <th>4023</th>\n",
       "      <td>0</td>\n",
       "      <td>11</td>\n",
       "      <td>48</td>\n",
       "      <td>11</td>\n",
       "      <td>4.4</td>\n",
       "      <td>22</td>\n",
       "      <td>100</td>\n",
       "      <td>0</td>\n",
       "      <td>0</td>\n",
       "    </tr>\n",
       "    <tr>\n",
       "      <th>20232</th>\n",
       "      <td>4</td>\n",
       "      <td>15</td>\n",
       "      <td>70</td>\n",
       "      <td>15</td>\n",
       "      <td>4.7</td>\n",
       "      <td>21</td>\n",
       "      <td>100</td>\n",
       "      <td>0</td>\n",
       "      <td>1</td>\n",
       "    </tr>\n",
       "    <tr>\n",
       "      <th>9864</th>\n",
       "      <td>0</td>\n",
       "      <td>4</td>\n",
       "      <td>56</td>\n",
       "      <td>12</td>\n",
       "      <td>4.7</td>\n",
       "      <td>7</td>\n",
       "      <td>33</td>\n",
       "      <td>0</td>\n",
       "      <td>0</td>\n",
       "    </tr>\n",
       "  </tbody>\n",
       "</table>\n",
       "</div>"
      ],
      "text/plain": [
       "       sp_count  up_count  title_cha  title_word  cha_word  up_cha  up_word  \\\n",
       "12582         0         5         36           8       4.5      13       62   \n",
       "14639         2         4         50           8       6.2       8       50   \n",
       "4023          0        11         48          11       4.4      22      100   \n",
       "20232         4        15         70          15       4.7      21      100   \n",
       "9864          0         4         56          12       4.7       7       33   \n",
       "\n",
       "       bad_word  class  \n",
       "12582         0      0  \n",
       "14639         0      0  \n",
       "4023          0      0  \n",
       "20232         0      1  \n",
       "9864          0      0  "
      ]
     },
     "execution_count": 13,
     "metadata": {},
     "output_type": "execute_result"
    }
   ],
   "source": [
    "test_df.tail()"
   ]
  },
  {
   "cell_type": "code",
   "execution_count": 14,
   "metadata": {},
   "outputs": [
    {
     "name": "stdout",
     "output_type": "stream",
     "text": [
      "length of test data is  6642\n",
      "Number of real news in test data 5038\n",
      "Number of fake news 1604\n"
     ]
    }
   ],
   "source": [
    "print(\"length of test data is \",len(test_df))\n",
    "print(\"Number of real news in test data\",len(test_df[test_df['class']==0]))\n",
    "print(\"Number of fake news\",len(test_df[test_df['class']==1]))"
   ]
  },
  {
   "cell_type": "code",
   "execution_count": 15,
   "metadata": {},
   "outputs": [],
   "source": [
    "## export the test data\n",
    "\n",
    "test_df.to_csv(r'gossip_SMOTE_test.csv')"
   ]
  },
  {
   "cell_type": "code",
   "execution_count": null,
   "metadata": {},
   "outputs": [],
   "source": []
  }
 ],
 "metadata": {
  "kernelspec": {
   "display_name": "Python 3",
   "language": "python",
   "name": "python3"
  },
  "language_info": {
   "codemirror_mode": {
    "name": "ipython",
    "version": 3
   },
   "file_extension": ".py",
   "mimetype": "text/x-python",
   "name": "python",
   "nbconvert_exporter": "python",
   "pygments_lexer": "ipython3",
   "version": "3.7.3"
  }
 },
 "nbformat": 4,
 "nbformat_minor": 2
}
